{
 "cells": [
  {
   "cell_type": "markdown",
   "metadata": {},
   "source": [
    "# 数据加载、存储与文件格式"
   ]
  },
  {
   "cell_type": "markdown",
   "metadata": {},
   "source": [
    "### 6.1 读写文本格式的数据 "
   ]
  },
  {
   "cell_type": "code",
   "execution_count": 1,
   "metadata": {},
   "outputs": [],
   "source": [
    "# read_csv('',header=None，sep=',') 指定分割符，可以用正则表达式\n",
    "# read_csv('',names=[]) 指定列名\n",
    "# read_csv('',names=[],index_col='') 指定索引列，可以传入[]括起来的多个列\n",
    "# read_csv('',skiprows=[]) 跳过文件的某些行\n",
    "# read_csv('',na_values=[])"
   ]
  },
  {
   "cell_type": "code",
   "execution_count": 2,
   "metadata": {},
   "outputs": [],
   "source": [
    "# read_csv('',nrows=5) 只读取几行\n",
    "# read_csv('',chunsize=) 逐块读取文件\n"
   ]
  },
  {
   "cell_type": "code",
   "execution_count": 3,
   "metadata": {},
   "outputs": [],
   "source": [
    "# 将数据写出到文本格式\n",
    "# data.to_csv(''，sep='') data时DataFrame格式的数据,可以指定分隔符\n",
    "# data.to_csv('',na_rep='') 缺失值替换\n",
    "# data.to_csv('',index=False,columns=[]) 只写出一部分列，并以指定顺序输出\n"
   ]
  },
  {
   "cell_type": "code",
   "execution_count": null,
   "metadata": {},
   "outputs": [],
   "source": []
  }
 ],
 "metadata": {
  "kernelspec": {
   "display_name": "Python [conda env:tensorflow-gpu]",
   "language": "python",
   "name": "conda-env-tensorflow-gpu-py"
  },
  "language_info": {
   "codemirror_mode": {
    "name": "ipython",
    "version": 3
   },
   "file_extension": ".py",
   "mimetype": "text/x-python",
   "name": "python",
   "nbconvert_exporter": "python",
   "pygments_lexer": "ipython3",
   "version": "3.7.3"
  }
 },
 "nbformat": 4,
 "nbformat_minor": 2
}
